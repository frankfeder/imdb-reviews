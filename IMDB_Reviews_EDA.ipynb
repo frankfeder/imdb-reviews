{
 "metadata": {
  "language_info": {
   "codemirror_mode": {
    "name": "ipython",
    "version": 3
   },
   "file_extension": ".py",
   "mimetype": "text/x-python",
   "name": "python",
   "nbconvert_exporter": "python",
   "pygments_lexer": "ipython3",
   "version": "3.7.9"
  },
  "orig_nbformat": 2,
  "kernelspec": {
   "name": "python3",
   "display_name": "Python 3.7.9 64-bit ('PythonData2': conda)",
   "metadata": {
    "interpreter": {
     "hash": "1323ab88a6f9459fb8f40aaa3e9be02fdd1e64e02e1c290cdd414cfd6c971c86"
    }
   }
  }
 },
 "nbformat": 4,
 "nbformat_minor": 2,
 "cells": [
  {
   "cell_type": "code",
   "execution_count": 9,
   "metadata": {},
   "outputs": [],
   "source": [
    "# Import dependencies\n",
    "import pandas as pd\n",
    "import time"
   ]
  },
  {
   "cell_type": "code",
   "execution_count": 10,
   "metadata": {},
   "outputs": [
    {
     "output_type": "stream",
     "name": "stdout",
     "text": [
      "Load complete, total time 39.48960542678833 seconds\n"
     ]
    },
    {
     "output_type": "execute_result",
     "data": {
      "text/plain": [
       "                       movie  rating  \\\n",
       "0         The Droving (2020)       2   \n",
       "1       All About Eve (1950)      10   \n",
       "2       Runaway Train (1985)       7   \n",
       "3  The Half of It (I) (2020)       4   \n",
       "4         Closure (I) (2018)       9   \n",
       "\n",
       "                                      review_summary review_date  spoiler_tag  \\\n",
       "0                                   An honest review  2020-05-03        False   \n",
       "1                                            Amazing  2020-05-03        False   \n",
       "2                          Impressive action scenes!  2020-05-03        False   \n",
       "3  Needed the other half of the movie to cover up...  2020-05-03        False   \n",
       "4                                 Fun and intriguing  2020-05-03        False   \n",
       "\n",
       "                                       review_detail  year               title  \n",
       "0  Here's the truth. There's not much to this mov...  2020         The Droving  \n",
       "1  Having seen this film for the first time today...  1950       All About Eve  \n",
       "2  The movie had some very impressive scenes. Esp...  1985       Runaway Train  \n",
       "3  I see that Netflix has a teenage/kids audience...  2020  The Half of It (I)  \n",
       "4  This is a fun and intriguing mystery. The acti...  2018         Closure (I)  "
      ],
      "text/html": "<div>\n<style scoped>\n    .dataframe tbody tr th:only-of-type {\n        vertical-align: middle;\n    }\n\n    .dataframe tbody tr th {\n        vertical-align: top;\n    }\n\n    .dataframe thead th {\n        text-align: right;\n    }\n</style>\n<table border=\"1\" class=\"dataframe\">\n  <thead>\n    <tr style=\"text-align: right;\">\n      <th></th>\n      <th>movie</th>\n      <th>rating</th>\n      <th>review_summary</th>\n      <th>review_date</th>\n      <th>spoiler_tag</th>\n      <th>review_detail</th>\n      <th>year</th>\n      <th>title</th>\n    </tr>\n  </thead>\n  <tbody>\n    <tr>\n      <th>0</th>\n      <td>The Droving (2020)</td>\n      <td>2</td>\n      <td>An honest review</td>\n      <td>2020-05-03</td>\n      <td>False</td>\n      <td>Here's the truth. There's not much to this mov...</td>\n      <td>2020</td>\n      <td>The Droving</td>\n    </tr>\n    <tr>\n      <th>1</th>\n      <td>All About Eve (1950)</td>\n      <td>10</td>\n      <td>Amazing</td>\n      <td>2020-05-03</td>\n      <td>False</td>\n      <td>Having seen this film for the first time today...</td>\n      <td>1950</td>\n      <td>All About Eve</td>\n    </tr>\n    <tr>\n      <th>2</th>\n      <td>Runaway Train (1985)</td>\n      <td>7</td>\n      <td>Impressive action scenes!</td>\n      <td>2020-05-03</td>\n      <td>False</td>\n      <td>The movie had some very impressive scenes. Esp...</td>\n      <td>1985</td>\n      <td>Runaway Train</td>\n    </tr>\n    <tr>\n      <th>3</th>\n      <td>The Half of It (I) (2020)</td>\n      <td>4</td>\n      <td>Needed the other half of the movie to cover up...</td>\n      <td>2020-05-03</td>\n      <td>False</td>\n      <td>I see that Netflix has a teenage/kids audience...</td>\n      <td>2020</td>\n      <td>The Half of It (I)</td>\n    </tr>\n    <tr>\n      <th>4</th>\n      <td>Closure (I) (2018)</td>\n      <td>9</td>\n      <td>Fun and intriguing</td>\n      <td>2020-05-03</td>\n      <td>False</td>\n      <td>This is a fun and intriguing mystery. The acti...</td>\n      <td>2018</td>\n      <td>Closure (I)</td>\n    </tr>\n  </tbody>\n</table>\n</div>"
     },
     "metadata": {},
     "execution_count": 10
    }
   ],
   "source": [
    "start_load_time = time.time()\n",
    "clean_reviews_df = pd.read_csv(\"imdbReviewsClean.csv\", sep=\"\\t\")\n",
    "print(f\"Load complete, total time {time.time() - start_load_time} seconds\")\n",
    "clean_reviews_df.head()"
   ]
  },
  {
   "cell_type": "code",
   "execution_count": 23,
   "metadata": {},
   "outputs": [
    {
     "output_type": "stream",
     "name": "stdout",
     "text": [
      "movie                     object\nrating                     int64\nreview_summary            object\nreview_date       datetime64[ns]\nspoiler_tag                 bool\nreview_detail             object\nyear                       int64\ntitle                     object\ndtype: object\n"
     ]
    }
   ],
   "source": [
    "# Expect we only need to fix review_date\n",
    "clean_reviews_df[\"review_date\"] = pd.to_datetime(clean_reviews_df[\"review_date\"])\n",
    "print(clean_reviews_df.dtypes)"
   ]
  },
  {
   "cell_type": "code",
   "execution_count": 15,
   "metadata": {},
   "outputs": [
    {
     "output_type": "stream",
     "name": "stdout",
     "text": [
      "219,807 unique movies\n\nMost reviewed movie in working data: Avengers: Endgame with 8,673 reviews.\n\nAvengers: Endgame                                    8673\nDil Bechara                                          7735\nThe Shawshank Redemption                             7720\nCaptain Marvel                                       7060\nWonder Woman 1984                                    6724\nThe Dark Knight                                      6620\n小丑                                                   6451\nStar Wars: Episode VIII - The Last Jedi              6354\nMrs. Serial Killer                                   5377\nSTAR WARS：天行者的崛起                                     5082\nGunjan Saxena: The Kargil Girl                       4912\nLaxmii                                               4714\nThe Lord of the Rings: The Fellowship of the Ring    4627\nStar Wars: Episode VII - The Force Awakens           4627\nJoker                                                4199\nName: title, dtype: int64\n"
     ]
    }
   ],
   "source": [
    "# Which movies have the most reviews?\n",
    "movie_review_value_counts = clean_reviews_df[\"title\"].value_counts()\n",
    "unique_movie_count = len(movie_review_value_counts)\n",
    "print(f\"{unique_movie_count:,} unique movies\\n\")\n",
    "most_reviewed_movie = movie_review_value_counts.head(1).index[0]\n",
    "most_reviewed_movie_count = movie_review_value_counts.head(1)[0]\n",
    "print(f\"Most reviewed movie in working data: {most_reviewed_movie} with {most_reviewed_movie_count:,} reviews.\\n\")\n",
    "print(movie_review_value_counts.head(15))"
   ]
  },
  {
   "cell_type": "code",
   "execution_count": 16,
   "metadata": {},
   "outputs": [
    {
     "output_type": "stream",
     "name": "stdout",
     "text": [
      "Summary Stats: Count of Reviews per Unique Movie\nmean      18.229638\nstd      103.015005\nmin        1.000000\n25%        1.000000\n50%        3.000000\n75%        8.000000\nmax     8673.000000\nName: title, dtype: float64\n"
     ]
    }
   ],
   "source": [
    "# How concentrated is review activity?\n",
    "print(\"Summary Stats: Count of Reviews per Unique Movie\")\n",
    "print(movie_review_value_counts.describe()[1:]) # \"count\" below refers to total unique movies "
   ]
  },
  {
   "cell_type": "code",
   "execution_count": 17,
   "metadata": {},
   "outputs": [
    {
     "output_type": "stream",
     "name": "stdout",
     "text": [
      "Average review count per unique movie: 18.23\nMovies with above avg. review count: 29,718 / 219,807 = 13.52%\n"
     ]
    }
   ],
   "source": [
    "# What % of movies recieves more than the avg. amount of reviews?\n",
    "avg_reviews = movie_review_value_counts.describe()['mean']\n",
    "above_avg_reviews = len(movie_review_value_counts[movie_review_value_counts > avg_reviews])\n",
    "print(f\"Average review count per unique movie: {avg_reviews:.2f}\")\n",
    "print(f\"Movies with above avg. review count: {above_avg_reviews:,} / {unique_movie_count:,} = {above_avg_reviews / unique_movie_count * 100:.2f}%\")"
   ]
  }
 ]
}