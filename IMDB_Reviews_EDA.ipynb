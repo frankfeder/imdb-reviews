{
 "metadata": {
  "language_info": {
   "codemirror_mode": {
    "name": "ipython",
    "version": 3
   },
   "file_extension": ".py",
   "mimetype": "text/x-python",
   "name": "python",
   "nbconvert_exporter": "python",
   "pygments_lexer": "ipython3",
   "version": "3.7.9"
  },
  "orig_nbformat": 2,
  "kernelspec": {
   "name": "python3",
   "display_name": "Python 3.7.9 64-bit ('PythonData2': conda)",
   "metadata": {
    "interpreter": {
     "hash": "1323ab88a6f9459fb8f40aaa3e9be02fdd1e64e02e1c290cdd414cfd6c971c86"
    }
   }
  }
 },
 "nbformat": 4,
 "nbformat_minor": 2,
 "cells": [
  {
   "source": [
    "# Introduction\n",
    "\n",
    "## Goals\n",
    "* Make goals list"
   ],
   "cell_type": "markdown",
   "metadata": {}
  },
  {
   "source": [
    "# Load In Cleaned DataFrame"
   ],
   "cell_type": "markdown",
   "metadata": {}
  },
  {
   "cell_type": "code",
   "execution_count": 351,
   "metadata": {},
   "outputs": [],
   "source": [
    "# Import dependencies\n",
    "import pandas as pd\n",
    "import time\n",
    "import datetime as dt\n",
    "import string # for parsing non-english titles\n",
    "import numpy as np"
   ]
  },
  {
   "cell_type": "code",
   "execution_count": 352,
   "metadata": {},
   "outputs": [
    {
     "output_type": "stream",
     "name": "stdout",
     "text": [
      "Load complete, total time 0.75 seconds\n\n\nTotal reviews in working data: 68881\n"
     ]
    },
    {
     "output_type": "execute_result",
     "data": {
      "text/plain": [
       "                       movie  rating  \\\n",
       "0         The Droving (2020)       2   \n",
       "1       All About Eve (1950)      10   \n",
       "2       Runaway Train (1985)       7   \n",
       "3  The Half of It (I) (2020)       4   \n",
       "4         Closure (I) (2018)       9   \n",
       "\n",
       "                                      review_summary review_date  spoiler_tag  \\\n",
       "0                                   An honest review  2020-05-03        False   \n",
       "1                                            Amazing  2020-05-03        False   \n",
       "2                          Impressive action scenes!  2020-05-03        False   \n",
       "3  Needed the other half of the movie to cover up...  2020-05-03        False   \n",
       "4                                 Fun and intriguing  2020-05-03        False   \n",
       "\n",
       "                                       review_detail  year               title  \n",
       "0  Here's the truth. There's not much to this mov...  2020         The Droving  \n",
       "1  Having seen this film for the first time today...  1950       All About Eve  \n",
       "2  The movie had some very impressive scenes. Esp...  1985       Runaway Train  \n",
       "3  I see that Netflix has a teenage/kids audience...  2020  The Half of It (I)  \n",
       "4  This is a fun and intriguing mystery. The acti...  2018         Closure (I)  "
      ],
      "text/html": "<div>\n<style scoped>\n    .dataframe tbody tr th:only-of-type {\n        vertical-align: middle;\n    }\n\n    .dataframe tbody tr th {\n        vertical-align: top;\n    }\n\n    .dataframe thead th {\n        text-align: right;\n    }\n</style>\n<table border=\"1\" class=\"dataframe\">\n  <thead>\n    <tr style=\"text-align: right;\">\n      <th></th>\n      <th>movie</th>\n      <th>rating</th>\n      <th>review_summary</th>\n      <th>review_date</th>\n      <th>spoiler_tag</th>\n      <th>review_detail</th>\n      <th>year</th>\n      <th>title</th>\n    </tr>\n  </thead>\n  <tbody>\n    <tr>\n      <th>0</th>\n      <td>The Droving (2020)</td>\n      <td>2</td>\n      <td>An honest review</td>\n      <td>2020-05-03</td>\n      <td>False</td>\n      <td>Here's the truth. There's not much to this mov...</td>\n      <td>2020</td>\n      <td>The Droving</td>\n    </tr>\n    <tr>\n      <th>1</th>\n      <td>All About Eve (1950)</td>\n      <td>10</td>\n      <td>Amazing</td>\n      <td>2020-05-03</td>\n      <td>False</td>\n      <td>Having seen this film for the first time today...</td>\n      <td>1950</td>\n      <td>All About Eve</td>\n    </tr>\n    <tr>\n      <th>2</th>\n      <td>Runaway Train (1985)</td>\n      <td>7</td>\n      <td>Impressive action scenes!</td>\n      <td>2020-05-03</td>\n      <td>False</td>\n      <td>The movie had some very impressive scenes. Esp...</td>\n      <td>1985</td>\n      <td>Runaway Train</td>\n    </tr>\n    <tr>\n      <th>3</th>\n      <td>The Half of It (I) (2020)</td>\n      <td>4</td>\n      <td>Needed the other half of the movie to cover up...</td>\n      <td>2020-05-03</td>\n      <td>False</td>\n      <td>I see that Netflix has a teenage/kids audience...</td>\n      <td>2020</td>\n      <td>The Half of It (I)</td>\n    </tr>\n    <tr>\n      <th>4</th>\n      <td>Closure (I) (2018)</td>\n      <td>9</td>\n      <td>Fun and intriguing</td>\n      <td>2020-05-03</td>\n      <td>False</td>\n      <td>This is a fun and intriguing mystery. The acti...</td>\n      <td>2018</td>\n      <td>Closure (I)</td>\n    </tr>\n  </tbody>\n</table>\n</div>"
     },
     "metadata": {},
     "execution_count": 352
    }
   ],
   "source": [
    "start_load_time = time.time()\n",
    "\n",
    "#clean_reviews_df = pd.read_csv(\"imdbReviewsClean.csv\", sep=\"\\t\")\n",
    "clean_reviews_df = pd.read_csv(\"imdbReviewsSmall.csv\", sep=\"\\t\")\n",
    "print(f\"Load complete, total time {time.time() - start_load_time:.2f} seconds\\n\")\n",
    "\n",
    "reviews_count_all = len(clean_reviews_df)\n",
    "print(f\"\\nTotal reviews in working data: {reviews_count_all}\")\n",
    "\n",
    "clean_reviews_df.head()"
   ]
  },
  {
   "cell_type": "code",
   "execution_count": 353,
   "metadata": {},
   "outputs": [
    {
     "output_type": "stream",
     "name": "stdout",
     "text": [
      "movie             object\nrating             int64\nreview_summary    object\nreview_date       object\nspoiler_tag         bool\nreview_detail     object\nyear               int64\ntitle             object\ndtype: object \n\nmovie                     object\nrating                     int64\nreview_summary            object\nreview_date       datetime64[ns]\nspoiler_tag                 bool\nreview_detail             object\nyear                       int64\ntitle                     object\ndtype: object\n"
     ]
    }
   ],
   "source": [
    "# Expect we only need to fix review_date\n",
    "print(clean_reviews_df.dtypes, \"\\n\")\n",
    "clean_reviews_df[\"review_date\"] = pd.to_datetime(clean_reviews_df[\"review_date\"])\n",
    "print(clean_reviews_df.dtypes)"
   ]
  },
  {
   "cell_type": "code",
   "execution_count": 354,
   "metadata": {},
   "outputs": [
    {
     "output_type": "stream",
     "name": "stdout",
     "text": [
      "24,921 unique movies\n\nMost reviewed movie in working data: Mrs. Serial Killer with 957 reviews.\n\nMrs. Serial Killer               957\nMulan                            656\nThappad (I)                      487\nDeadpool                         475\nTenet                            431\n小丑                               355\nThe Day the Earth Stood Still    317\nThe Invisible Man (I)            212\n星際救援                             198\nI Am Not Okay with This          193\nThe Shawshank Redemption         176\nI'm Thinking of Ending Things    165\nParasite                         163\nThe Dark Knight                  160\nTwilight (I)                     156\nName: title, dtype: int64\n"
     ]
    }
   ],
   "source": [
    "# Which movies have the most reviews?\n",
    "movie_review_value_counts = clean_reviews_df[\"title\"].value_counts()\n",
    "unique_movie_count = len(movie_review_value_counts)\n",
    "print(f\"{unique_movie_count:,} unique movies\\n\")\n",
    "most_reviewed_movie = movie_review_value_counts.head(1).index[0]\n",
    "most_reviewed_movie_count = movie_review_value_counts.head(1)[0]\n",
    "print(f\"Most reviewed movie in working data: {most_reviewed_movie} with {most_reviewed_movie_count:,} reviews.\\n\")\n",
    "print(movie_review_value_counts.head(15))"
   ]
  },
  {
   "source": [
    "It is interesting that some of the most-reviewed titles are for non-english films. Eventually we'll want to dive into the text of the actual reviews themselves, so to prepare for that step we can filter out reviews for movies with foreign (non-ascii) letters in their title, under the assumption that most reviews for these records will be written in the same language as the title.\n",
    "\n",
    "# Classifying Reviews by Foreign Characters in Movie Title"
   ],
   "cell_type": "markdown",
   "metadata": {}
  },
  {
   "cell_type": "code",
   "execution_count": 355,
   "metadata": {},
   "outputs": [
    {
     "output_type": "stream",
     "name": "stdout",
     "text": [
      "星際救援 is only english characters: False\nThe Invisible Man (I)  is only english characters: True\n"
     ]
    }
   ],
   "source": [
    "# How many titles have non-english characters?\n",
    "# Can use .isascii() to detect these, like below:\n",
    "badtext = \"星際救援\"\n",
    "goodtext = \"The Invisible Man (I) \"\n",
    "print(f\"{badtext} is only english characters: {badtext.isascii()}\")\n",
    "print(f\"{goodtext} is only english characters: {goodtext.isascii()}\")"
   ]
  },
  {
   "cell_type": "code",
   "execution_count": 356,
   "metadata": {},
   "outputs": [],
   "source": [
    "# Split english and foreign movie titles using isascii() \n",
    "unique_movies_list = list(movie_review_value_counts.index.values)\n",
    "english_titles = []\n",
    "foreign_titles = []\n",
    "\n",
    "# Create a list of integers up to the length of unique_movies_list, and iterate through that to hit every item in list\n",
    "for title in np.arange(0, len(unique_movies_list)):\n",
    "    if unique_movies_list[title].isascii():\n",
    "        english_titles.append(unique_movies_list[title])\n",
    "    else:\n",
    "        foreign_titles.append(unique_movies_list[title])"
   ]
  },
  {
   "cell_type": "code",
   "execution_count": 357,
   "metadata": {},
   "outputs": [
    {
     "output_type": "stream",
     "name": "stdout",
     "text": [
      "English Movie Title Count: 23,294 (93.47%)\nForeign Movie Title Count: 1,627 (6.53%)\n\nReviews on English Movie Titles: 64,719 (93.96)%\nReviews on Foreign Movie Titles: 4,162 (6.04)%\n"
     ]
    }
   ],
   "source": [
    "# Print summary stats for the new lists\n",
    "english_movie_count = len(english_titles)\n",
    "foreign_movie_count = len(foreign_titles)\n",
    "english_movie_pct = english_movie_count / unique_movie_count * 100\n",
    "foreign_movie_pct = foreign_movie_count / unique_movie_count * 100\n",
    "print(f\"English Movie Title Count: {english_movie_count:,} ({english_movie_pct:.2f}%)\")\n",
    "print(f\"Foreign Movie Title Count: {foreign_movie_count:,} ({foreign_movie_pct:.2f}%)\")\n",
    "\n",
    "english_movie_review_count = len(clean_reviews_df[clean_reviews_df[\"title\"].isin(english_titles)])\n",
    "foreign_movie_review_count = len(clean_reviews_df[clean_reviews_df[\"title\"].isin(foreign_titles)])\n",
    "english_movie_review_pct = english_movie_review_count / reviews_count_all * 100\n",
    "foreign_movie_review_pct = foreign_movie_review_count / reviews_count_all * 100\n",
    "print(f\"\\nReviews on English Movie Titles: {english_movie_review_count:,} ({english_movie_review_pct:.2f})%\")\n",
    "print(f\"Reviews on Foreign Movie Titles: {foreign_movie_review_count:,} ({foreign_movie_review_pct:.2f})%\")"
   ]
  },
  {
   "cell_type": "code",
   "execution_count": 358,
   "metadata": {},
   "outputs": [
    {
     "output_type": "execute_result",
     "data": {
      "text/plain": [
       "['小丑',\n",
       " '星際救援',\n",
       " '愛爾蘭人',\n",
       " '婚姻故事',\n",
       " '吸血鬼戰爭',\n",
       " '藍波：最後一滴血',\n",
       " '仲夏魘',\n",
       " '鋒迴路轉',\n",
       " '安眠醫生',\n",
       " 'WALL·E',\n",
       " '野蠻遊戲：全面晉級',\n",
       " '從前，有個好萊塢',\n",
       " '弒婚遊戲 (I)',\n",
       " '守護者',\n",
       " '冰雪奇緣2']"
      ]
     },
     "metadata": {},
     "execution_count": 358
    }
   ],
   "source": [
    "# Check foreign titles to see if that worked as intended\n",
    "list(foreign_titles)[0:15]"
   ]
  },
  {
   "cell_type": "code",
   "execution_count": 359,
   "metadata": {},
   "outputs": [],
   "source": [
    "# Some of the rows we filtered have some english (ascii) characters\n",
    "# Pull foreign titles that have at least 2 ascii characters\n",
    "def hasSomeAscii(inText):\n",
    "    english_chars = 0\n",
    "    for character in np.arange(0, len(inText)):\n",
    "        if inText[character].isspace():\n",
    "            continue\n",
    "        if inText[character].isascii():\n",
    "            english_chars+=1\n",
    "    return english_chars > 1"
   ]
  },
  {
   "cell_type": "code",
   "execution_count": 360,
   "metadata": {},
   "outputs": [
    {
     "output_type": "stream",
     "name": "stdout",
     "text": [
      "Found 628 records with partial ASCII among 1,627 foreign titles (6.04%)\n"
     ]
    }
   ],
   "source": [
    "# Extract records with some ascii characters in title from unique foreign film title list\n",
    "foreign_movies_with_ascii = []\n",
    "for title in np.arange(0, len(foreign_titles)):\n",
    "    if hasSomeAscii(foreign_titles[title]):\n",
    "        foreign_movies_with_ascii.append(foreign_titles[title])\n",
    "\n",
    "foreign_movies_with_ascii_count = len(foreign_movies_with_ascii)\n",
    "foreign_movies_with_ascii_pct = foreign_movies_with_ascii_count / foreign_movie_count * 100\n",
    "print(f\"Found {foreign_movies_with_ascii_count:,} records with partial ASCII among {foreign_movie_count:,} foreign titles ({foreign_movie_review_pct:.2f}%)\")"
   ]
  },
  {
   "cell_type": "code",
   "execution_count": 361,
   "metadata": {},
   "outputs": [
    {
     "output_type": "execute_result",
     "data": {
      "text/plain": [
       "['WALL·E',\n",
       " '弒婚遊戲 (I)',\n",
       " 'Pokémon: Mewtwo Strikes Back - Evolution',\n",
       " 'Léon: The Professional',\n",
       " 'Les Misérables',\n",
       " '茱蒂 (II)',\n",
       " '我們 (II)',\n",
       " '刺激1995',\n",
       " 'Amélie',\n",
       " 'Irréversible',\n",
       " '安娜 (II)',\n",
       " 'Capharnaüm',\n",
       " '鱷魔 (I)',\n",
       " 'A+瞎妹',\n",
       " 'Cinayet Süsü',\n",
       " '搞鬼 (II)',\n",
       " 'Erufen rîto',\n",
       " '靠譜歌王 (III)',\n",
       " 'Aliens: A Redenção',\n",
       " '國王 (I)']"
      ]
     },
     "metadata": {},
     "execution_count": 361
    }
   ],
   "source": [
    "# Check names of \"foreign movies\" with 2 or more ascii (english) characters in title\n",
    "foreign_movies_with_ascii[0:20]"
   ]
  },
  {
   "source": [
    "This indicates an issue with how we distinguished between English and Foreign titles in our earlier step. Even just in the first handful, we have three English movies:\n",
    "``` 'WALL·E' 'Pokémon: Mewtwo Strikes Back - Evolution' 'Léon: The Professional' ``` that belong in our English Titles group. Previously, we sorted a title into the \"Foreign\" bucket if it had ANY non-ascii characters. If we increase that limit to 2 non-ascii chars, we would have the opposite issue with ``` '茱蒂 (II)' ``` being included in the English titles. At 1 ascii character, we would correctly sort all 4 of the titles mentioned.\n",
    "\n",
    "Below I'll make an inverted version of the hasSomeAscii() that will return True for text that contains 0 or 1 non-ascii character. Then, we can re-filter the unique titles using that function and get more accurate results. \n"
   ],
   "cell_type": "markdown",
   "metadata": {}
  },
  {
   "cell_type": "code",
   "execution_count": 362,
   "metadata": {},
   "outputs": [],
   "source": [
    "def isMostlyAscii(inText):\n",
    "    non_english_chars = 0\n",
    "    for character in np.arange(0, len(inText)):\n",
    "        if inText[character].isspace():\n",
    "            continue\n",
    "        if not inText[character].isascii():\n",
    "            non_english_chars+=1\n",
    "    return non_english_chars < 2"
   ]
  },
  {
   "cell_type": "code",
   "execution_count": 363,
   "metadata": {},
   "outputs": [],
   "source": [
    "# Redo sorting movie titles into english and foreign lists using isMostlyAscii()\n",
    "english_titles_revised = []\n",
    "foreign_titles_revised = []\n",
    "\n",
    "# Create a list of integers up to the length of unique_movies_list, and iterate through that to hit every item in list\n",
    "for title in np.arange(0, len(unique_movies_list)):\n",
    "    if isMostlyAscii(unique_movies_list[title]):\n",
    "        english_titles_revised.append(unique_movies_list[title])\n",
    "    else:\n",
    "        foreign_titles_revised.append(unique_movies_list[title])"
   ]
  },
  {
   "cell_type": "code",
   "execution_count": 364,
   "metadata": {},
   "outputs": [
    {
     "output_type": "stream",
     "name": "stdout",
     "text": [
      "English Movie Title Count: 23,676 (95.00%)\n",
      "Foreign Movie Title Count: 1,245 (5.00%)\n",
      "\n",
      "Reviews on English Movie Titles: 65,333 (94.85)%\n",
      "Reviews on Foreign Movie Titles: 3,548 (5.15)%\n"
     ]
    }
   ],
   "source": [
    "# Run the same summary stats as before, expecting a lower foreign movie % \n",
    "english_movie_count = len(english_titles_revised)\n",
    "foreign_movie_count = len(foreign_titles_revised)\n",
    "english_movie_pct = english_movie_count / unique_movie_count * 100\n",
    "foreign_movie_pct = foreign_movie_count / unique_movie_count * 100\n",
    "print(f\"English Movie Title Count: {english_movie_count:,} ({english_movie_pct:.2f}%)\")\n",
    "print(f\"Foreign Movie Title Count: {foreign_movie_count:,} ({foreign_movie_pct:.2f}%)\")\n",
    "\n",
    "english_movie_review_count = len(clean_reviews_df[clean_reviews_df[\"title\"].isin(english_titles_revised)])\n",
    "foreign_movie_review_count = len(clean_reviews_df[clean_reviews_df[\"title\"].isin(foreign_titles_revised)])\n",
    "english_movie_review_pct = english_movie_review_count / reviews_count_all * 100\n",
    "foreign_movie_review_pct = foreign_movie_review_count / reviews_count_all * 100\n",
    "print(f\"\\nReviews on English Movie Titles: {english_movie_review_count:,} ({english_movie_review_pct:.2f})%\")\n",
    "print(f\"Reviews on Foreign Movie Titles: {foreign_movie_review_count:,} ({foreign_movie_review_pct:.2f})%\")"
   ]
  },
  {
   "cell_type": "code",
   "execution_count": 365,
   "metadata": {},
   "outputs": [
    {
     "output_type": "execute_result",
     "data": {
      "text/plain": [
       "['小丑',\n",
       " '星際救援',\n",
       " '愛爾蘭人',\n",
       " '婚姻故事',\n",
       " '吸血鬼戰爭',\n",
       " '藍波：最後一滴血',\n",
       " '仲夏魘',\n",
       " '鋒迴路轉',\n",
       " '安眠醫生',\n",
       " '野蠻遊戲：全面晉級',\n",
       " '從前，有個好萊塢',\n",
       " '弒婚遊戲 (I)',\n",
       " '守護者',\n",
       " '冰雪奇緣2',\n",
       " '舞孃騙很大']"
      ]
     },
     "metadata": {},
     "execution_count": 365
    }
   ],
   "source": [
    "# That looks about right, let's peek at the foreign titles to confirm\n",
    "list(foreign_titles_revised)[0:15]"
   ]
  },
  {
   "source": [
    "Definitely an improvement, but the presence of ```'STAR WARS：天行者的崛起'``` suggests a larger problem with the data. There may be multiple unique \"title\"s that represent the same movie in different languages. That means we can't treat Title as the unique ID of each movie - instead, we have to use it as a key representing both Movie Title and Language. More practically, we'll have to filter out the foreign titles so that we can accurately summarize reviews on the English langauge version of all movies in the data."
   ],
   "cell_type": "markdown",
   "metadata": {}
  },
  {
   "cell_type": "code",
   "execution_count": 366,
   "metadata": {},
   "outputs": [
    {
     "output_type": "stream",
     "name": "stdout",
     "text": [
      "Most reviewed English-title movie: Avengers: Endgame\n\nMrs. Serial Killer               957\nMulan                            656\nThappad (I)                      487\nDeadpool                         475\nTenet                            431\nThe Day the Earth Stood Still    317\nThe Invisible Man (I)            212\nI Am Not Okay with This          193\nThe Shawshank Redemption         176\nI'm Thinking of Ending Things    165\nName: title, dtype: int64 \n\nOut of 24,921 unique titles 23,676 contain less than 2 non-ascii characters (95.00%)\n"
     ]
    }
   ],
   "source": [
    "# Filter out foreign movies by only taking titles in our english_titles_revised list\n",
    "english_movies_df = clean_reviews_df[clean_reviews_df[\"title\"].isin(english_titles_revised)]\n",
    "english_movies_reviews_count = len(english_movies_df)\n",
    "english_title_counts = english_movies_df[\"title\"].value_counts()\n",
    "english_unique_title_count = len(english_title_counts)\n",
    "english_title_pct = english_unique_title_count / unique_movie_count * 100\n",
    "\n",
    "print(f\"Most reviewed English-title movie: {english_review_title_counts.index[0]}\\n\")\n",
    "print(english_title_counts.head(10),\"\\n\")\n",
    "print(f\"Out of {unique_movie_count:,} unique titles {english_unique_title_count:,} contain less than 2 non-ascii characters ({english_title_pct:.2f}%)\")"
   ]
  },
  {
   "source": [
    "# Review Count per Movie"
   ],
   "cell_type": "markdown",
   "metadata": {}
  },
  {
   "cell_type": "code",
   "execution_count": 367,
   "metadata": {},
   "outputs": [
    {
     "output_type": "stream",
     "name": "stdout",
     "text": [
      "Summary Stats: Count of Reviews per Unique Movie\nmean      2.759461\nstd      11.543721\nmin       1.000000\n25%       1.000000\n50%       1.000000\n75%       2.000000\nmax     957.000000\nName: title, dtype: float64\n"
     ]
    }
   ],
   "source": [
    "# How concentrated is review activity?\n",
    "print(\"Summary Stats: Count of Reviews per Unique Movie\")\n",
    "print(english_title_counts.describe()[1:]) # \"count\" below refers to total unique movies "
   ]
  },
  {
   "cell_type": "code",
   "execution_count": 368,
   "metadata": {},
   "outputs": [
    {
     "output_type": "stream",
     "name": "stdout",
     "text": [
      "Third quartile total reviews on unique movie: 2\nMovies with above third quartile review count: 4,819 / 23,676 = 20.35%\n"
     ]
    }
   ],
   "source": [
    "# What % of movies recieves more than the avg. amount of reviews?\n",
    "third_qt_reviews = english_title_counts.describe()[\"75%\"]\n",
    "top_qt_reviews_count = len(english_title_counts[english_title_counts > third_qt_reviews])\n",
    "print(f\"Third quartile total reviews on unique movie: {third_qt_reviews:.0f}\")\n",
    "print(f\"Movies with above third quartile review count: {top_qt_reviews_count:,} / {english_unique_title_count:,} = {top_qt_reviews_count / english_unique_title_count * 100:.2f}%\")"
   ]
  },
  {
   "cell_type": "code",
   "execution_count": 374,
   "metadata": {},
   "outputs": [
    {
     "output_type": "stream",
     "name": "stdout",
     "text": [
      "Total reviews for english-titled movies: 65,333\nReviews on popular movies with more than the third-quartile amount of reviews (> 2 reviews): 62,942\nReviews on unpopular movies with less than or exactly the third-quartile amount of reviews (<= 2 reviews): 2,391\nReviews on popular movies make up 96.34% of all reviews\n"
     ]
    }
   ],
   "source": [
    "# Split data into popular and unpopular subsets based on total reviews for reviewed movie\n",
    "popular_movie_titles = list(english_review_title_counts[english_review_title_counts > third_qt_reviews].index)\n",
    "unpopular_movie_titles = list(english_review_title_counts[english_review_title_counts <= third_qt_reviews].index)\n",
    "popular_movie_reviews = english_movies_df[english_movies_df[\"title\"].isin(popular_movie_titles)]\n",
    "unpopular_movie_reviews = english_movies_df[english_movies_df[\"title\"].isin(unpopular_movie_titles)]\n",
    "popular_movie_review_count = len(popular_movie_reviews)\n",
    "unpopular_movie_review_count = len(unpopular_movie_reviews)\n",
    "\n",
    "print(f\"Total reviews for english-titled movies: {english_movies_reviews_count:,}\")\n",
    "print(f\"Reviews on popular movies with more than the third-quartile amount of reviews (> {third_qt_reviews:.0f} reviews): {popular_movie_review_count:,}\")\n",
    "print(f\"Reviews on unpopular movies with less than or exactly the third-quartile amount of reviews (<= {third_qt_reviews:.0f} reviews): {unpopular_movie_review_count:,}\")\n",
    "print(f\"Reviews on popular movies make up {popular_movie_review_count / english_movies_reviews_count * 100:.2f}% of all reviews\")"
   ]
  },
  {
   "source": [
    "# Correlating Review Date And Avg. Rating"
   ],
   "cell_type": "markdown",
   "metadata": {}
  },
  {
   "cell_type": "code",
   "execution_count": 370,
   "metadata": {},
   "outputs": [
    {
     "output_type": "execute_result",
     "data": {
      "text/plain": [
       "                       movie  rating  \\\n",
       "0         The Droving (2020)       2   \n",
       "1       All About Eve (1950)      10   \n",
       "2       Runaway Train (1985)       7   \n",
       "3  The Half of It (I) (2020)       4   \n",
       "4         Closure (I) (2018)       9   \n",
       "\n",
       "                                      review_summary review_date  spoiler_tag  \\\n",
       "0                                   An honest review  2020-05-03        False   \n",
       "1                                            Amazing  2020-05-03        False   \n",
       "2                          Impressive action scenes!  2020-05-03        False   \n",
       "3  Needed the other half of the movie to cover up...  2020-05-03        False   \n",
       "4                                 Fun and intriguing  2020-05-03        False   \n",
       "\n",
       "                                       review_detail  year  \\\n",
       "0  Here's the truth. There's not much to this mov...  2020   \n",
       "1  Having seen this film for the first time today...  1950   \n",
       "2  The movie had some very impressive scenes. Esp...  1985   \n",
       "3  I see that Netflix has a teenage/kids audience...  2020   \n",
       "4  This is a fun and intriguing mystery. The acti...  2018   \n",
       "\n",
       "                title  month  day  weekday  \n",
       "0         The Droving      5    3        6  \n",
       "1       All About Eve      5    3        6  \n",
       "2       Runaway Train      5    3        6  \n",
       "3  The Half of It (I)      5    3        6  \n",
       "4         Closure (I)      5    3        6  "
      ],
      "text/html": "<div>\n<style scoped>\n    .dataframe tbody tr th:only-of-type {\n        vertical-align: middle;\n    }\n\n    .dataframe tbody tr th {\n        vertical-align: top;\n    }\n\n    .dataframe thead th {\n        text-align: right;\n    }\n</style>\n<table border=\"1\" class=\"dataframe\">\n  <thead>\n    <tr style=\"text-align: right;\">\n      <th></th>\n      <th>movie</th>\n      <th>rating</th>\n      <th>review_summary</th>\n      <th>review_date</th>\n      <th>spoiler_tag</th>\n      <th>review_detail</th>\n      <th>year</th>\n      <th>title</th>\n      <th>month</th>\n      <th>day</th>\n      <th>weekday</th>\n    </tr>\n  </thead>\n  <tbody>\n    <tr>\n      <th>0</th>\n      <td>The Droving (2020)</td>\n      <td>2</td>\n      <td>An honest review</td>\n      <td>2020-05-03</td>\n      <td>False</td>\n      <td>Here's the truth. There's not much to this mov...</td>\n      <td>2020</td>\n      <td>The Droving</td>\n      <td>5</td>\n      <td>3</td>\n      <td>6</td>\n    </tr>\n    <tr>\n      <th>1</th>\n      <td>All About Eve (1950)</td>\n      <td>10</td>\n      <td>Amazing</td>\n      <td>2020-05-03</td>\n      <td>False</td>\n      <td>Having seen this film for the first time today...</td>\n      <td>1950</td>\n      <td>All About Eve</td>\n      <td>5</td>\n      <td>3</td>\n      <td>6</td>\n    </tr>\n    <tr>\n      <th>2</th>\n      <td>Runaway Train (1985)</td>\n      <td>7</td>\n      <td>Impressive action scenes!</td>\n      <td>2020-05-03</td>\n      <td>False</td>\n      <td>The movie had some very impressive scenes. Esp...</td>\n      <td>1985</td>\n      <td>Runaway Train</td>\n      <td>5</td>\n      <td>3</td>\n      <td>6</td>\n    </tr>\n    <tr>\n      <th>3</th>\n      <td>The Half of It (I) (2020)</td>\n      <td>4</td>\n      <td>Needed the other half of the movie to cover up...</td>\n      <td>2020-05-03</td>\n      <td>False</td>\n      <td>I see that Netflix has a teenage/kids audience...</td>\n      <td>2020</td>\n      <td>The Half of It (I)</td>\n      <td>5</td>\n      <td>3</td>\n      <td>6</td>\n    </tr>\n    <tr>\n      <th>4</th>\n      <td>Closure (I) (2018)</td>\n      <td>9</td>\n      <td>Fun and intriguing</td>\n      <td>2020-05-03</td>\n      <td>False</td>\n      <td>This is a fun and intriguing mystery. The acti...</td>\n      <td>2018</td>\n      <td>Closure (I)</td>\n      <td>5</td>\n      <td>3</td>\n      <td>6</td>\n    </tr>\n  </tbody>\n</table>\n</div>"
     },
     "metadata": {},
     "execution_count": 370
    }
   ],
   "source": [
    "# Review date EDA\n",
    "# Extract date pieces from review_date\n",
    "rating_date_df = english_movies_df\n",
    "rating_date_df[\"month\"] = pd.DatetimeIndex(rating_date_df[\"review_date\"]).month\n",
    "rating_date_df[\"day\"] = pd.DatetimeIndex(rating_date_df[\"review_date\"]).day\n",
    "rating_date_df[\"weekday\"] = rating_date_df[\"review_date\"].dt.dayofweek # By Default 0 is Monday, 6 is Sunday\n",
    "rating_date_df.head()"
   ]
  },
  {
   "cell_type": "code",
   "execution_count": 371,
   "metadata": {},
   "outputs": [
    {
     "output_type": "stream",
     "name": "stdout",
     "text": [
      "Average review rating by month:\nmonth\n1     6.948276\n2     6.558557\n3     6.716285\n5     6.846822\n7     6.461878\n8     6.461572\n9     6.503283\n10    6.566870\n12    6.511498\nName: rating, dtype: float64\n\nAverage review rating by day of week:\nweekday\n0    6.693598\n1    6.620650\n2    6.549804\n3    6.573642\n4    6.575663\n5    6.419656\n6    6.477278\nName: rating, dtype: float64\n"
     ]
    }
   ],
   "source": [
    "# Does the average review change by month or day of week?\n",
    "print(\"Average review rating by month:\")\n",
    "print(rating_date_df.groupby(\"month\").mean()[\"rating\"])\n",
    "\n",
    "print(\"\\nAverage review rating by day of week:\")\n",
    "print(rating_date_df.groupby(\"weekday\").mean()[\"rating\"])"
   ]
  }
 ]
}