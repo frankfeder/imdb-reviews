{
 "metadata": {
  "language_info": {
   "codemirror_mode": {
    "name": "ipython",
    "version": 3
   },
   "file_extension": ".py",
   "mimetype": "text/x-python",
   "name": "python",
   "nbconvert_exporter": "python",
   "pygments_lexer": "ipython3",
   "version": "3.9.1-final"
  },
  "orig_nbformat": 2,
  "kernelspec": {
   "name": "python3",
   "display_name": "Python 3",
   "language": "python"
  }
 },
 "nbformat": 4,
 "nbformat_minor": 2,
 "cells": [
  {
   "cell_type": "code",
   "execution_count": 96,
   "metadata": {},
   "outputs": [],
   "source": [
    "# ETL/EDA of Enam Biswas's IMDb Largest Review Dataset: https://www.kaggle.com/ebiswas/imdb-review-dataset\n",
    "# Notebook by Frank Feder\n",
    "# Goals: \n",
    "#   Clean and explore the data to get high-level summaries and identify points of interest for later analyses\n",
    "#   Keep kernel novice-friendly by explaining busy lines, printing results in plain english\n",
    "#   Automate the creation of a ready-to-analyze dataframe of relevant data from all six json sourcefiles"
   ]
  },
  {
   "cell_type": "code",
   "execution_count": 97,
   "metadata": {},
   "outputs": [],
   "source": [
    "# OUTSTANDING TODO\n",
    "# QUESTIONS\n",
    "#   Is there a correlation between average review rating and date of review?\n",
    "#       Do certain weekdays/months/holidays correlate to changes in average ratings?\n",
    "#   A minority of movies get most of the review activity, could we use a model to a predict if a movie to be in this minority?\n",
    "#       This might be more interesting after linking other movie data to use as predictors\n",
    "#   What are IMDB reviewers' \"highest ranked\" movies by average rating?\n",
    "#   Can we detect overlap between fandoms through reviewers who rate multiple titles?\n",
    "#   Who are the most prolific reviewers on IMDB? What % of all reviews are posted by these reviewers?\n",
    "#   What distinguishes a helpful review from one that gets voted unhelpful?\n",
    "#       Are there \"controversial\" reviews that have high amounts of votes both ways?\n",
    "#       What distinguishes reviews that generate engagement from those that receive few votes either way? \n",
    "\n",
    "# WRANGLING\n",
    "#   Change pipeline to not drop ReviewerID and Helpful at start, to allow analysis on those columns\n",
    "#       Break Helpful column into helpful_votes and unhelpful_votes\n",
    "#   Connect this data with movie data from other sources, to link genre/director/actors/release date info\n",
    "#       This data does not provide the IMBD ID (format \"tt1234567\") can we effectively match by Title/Year?\n",
    "#   Create separate dataframe for analyzing reviews of ongoing/finished shows\n",
    "#       How does avg. rating change over a season for a given show?\n",
    "#       Can we see public opinion turn against Game of Thrones as its last season aired?\n",
    "#   Create separate dataframe for analyzing reviews of of \"TV Movie\" or \"Video\" entries"
   ]
  },
  {
   "cell_type": "code",
   "execution_count": 98,
   "metadata": {},
   "outputs": [],
   "source": [
    "# Import dependencies\n",
    "import json # reading in source file\n",
    "import pandas as pd\n",
    "import re # regular expressions\n",
    "import time"
   ]
  },
  {
   "cell_type": "code",
   "execution_count": 99,
   "metadata": {},
   "outputs": [
    {
     "output_type": "stream",
     "name": "stdout",
     "text": [
      "Starting load of part-01.json...\n",
      "Finished load of part-01.json at 7.66 total seconds elapsed\n",
      "Starting load of part-02.json...\n",
      "Finished load of part-02.json at 18.31 total seconds elapsed\n",
      "Starting load of part-03.json...\n",
      "Finished load of part-03.json at 30.28 total seconds elapsed\n",
      "Starting load of part-04.json...\n",
      "Finished load of part-04.json at 41.31 total seconds elapsed\n",
      "Starting load of part-05.json...\n",
      "Finished load of part-05.json at 54.69 total seconds elapsed\n",
      "Starting load of part-06.json...\n",
      "Finished load of part-06.json at 61.70 total seconds elapsed\n",
      "Loading complete after 61.70 seconds, 5,571,499 items in reviews_json\n",
      "Total reviews in the working data: 5,571,499\n"
     ]
    }
   ],
   "source": [
    "# Load data into dataframe\n",
    "dataDir = \"ReviewData\" # Replace with your data dir\n",
    "files_to_load = [\"part-01.json\", \"part-02.json\", \"part-03.json\", \"part-04.json\", \"part-05.json\", \"part-06.json\"]\n",
    "reviews_json = list()\n",
    "\n",
    "startTime = time.time()\n",
    "for current_file in files_to_load:\n",
    "    print(f\"Starting load of {current_file}...\")\n",
    "    with open(f\"{dataDir}/{current_file}\", mode='r') as file:\n",
    "        new_reviews = json.load(file)\n",
    "        for review in new_reviews:\n",
    "            reviews_json.append(review)\n",
    "    print(f\"Finished load of {current_file} at {time.time() - startTime:.2f} total seconds elapsed\")\n",
    "print(f\"Loading complete after {time.time() - startTime:.2f} seconds, {len(reviews_json):,} items in reviews_json\")\n",
    "\n",
    "reviews_total_count = len(reviews_json)\n",
    "print(f\"Total reviews in the working data: {reviews_total_count:,}\")\n",
    "\n",
    "# Convert list of dicts to pandas dataframe\n",
    "reviews_df_raw = pd.DataFrame(reviews_json)"
   ]
  },
  {
   "cell_type": "code",
   "execution_count": 100,
   "metadata": {},
   "outputs": [],
   "source": [
    "## TESTING (OR LIMITED RESOURCES) MODE: COMMENT OUT ABOVE BLOCK AND UNCOMMENT BELOW BEFORE RUNNING NOTEBOOK\n",
    "#part_one_filepath = 'ReviewData/part-01.json' # Replace with your filepath\n",
    "#with open(part_one_filepath, mode='r') as file:\n",
    "#    reviews_json = json.load(file)\n",
    "#\n",
    "## Remove the [...] piece below to test with the full ~1mil records in part-01.json\n",
    "#reviews_df_raw = pd.DataFrame(reviews_json[0:100000]) # Use 100,000 records, about 10% of first chunk"
   ]
  },
  {
   "cell_type": "code",
   "execution_count": 101,
   "metadata": {},
   "outputs": [
    {
     "output_type": "execute_result",
     "data": {
      "text/plain": [
       "   review_id           reviewer                          movie rating  \\\n",
       "0  rw5704482      raeldor-96879            After Life (2019– )      9   \n",
       "1  rw5704483            dosleeb  The Valhalla Murders (2019– )      6   \n",
       "2  rw5704484    brightconscious           Special OPS (2020– )      7   \n",
       "3  rw5704485         gasconyway              #BlackAF (2020– )      8   \n",
       "4  rw5704487       mmason-15867             The Droving (2020)      2   \n",
       "5  rw5704488  schroederagustavo           All About Eve (1950)     10   \n",
       "6  rw5704489            welhof1           Runaway Train (1985)      7   \n",
       "7  rw5704490            Evastar          Iron Fist (2017–2018)      9   \n",
       "8  rw5704491             tioeta      The Half of It (I) (2020)      4   \n",
       "9  rw5704492      stephenrifkin            This Is Us (2016– )      2   \n",
       "\n",
       "                                      review_summary review_date  spoiler_tag  \\\n",
       "0                               Very Strong Season 2  3 May 2020            0   \n",
       "1                              Icelandic detectives?  3 May 2020            0   \n",
       "2                                    Nothing special  3 May 2020            0   \n",
       "3                                           Good but  3 May 2020            0   \n",
       "4                                   An honest review  3 May 2020            0   \n",
       "5                                            Amazing  3 May 2020            0   \n",
       "6                          Impressive action scenes!  3 May 2020            0   \n",
       "7                 Another great Netflix Marvel show!  3 May 2020            0   \n",
       "8  Needed the other half of the movie to cover up...  3 May 2020            0   \n",
       "9  All the Pearsons are high maintenance and self...  3 May 2020            0   \n",
       "\n",
       "                                       review_detail   helpful  \n",
       "0  I enjoyed the first season, but I must say I t...    [1, 1]  \n",
       "1  I know Iceland is a small country and police d...    [2, 2]  \n",
       "2  Except K K , no other actor looks comfortable ...    [0, 0]  \n",
       "3  I'm guessing that as a 62 year old white woman...    [5, 9]  \n",
       "4  Here's the truth. There's not much to this mov...  [26, 41]  \n",
       "5  Having seen this film for the first time today...    [0, 1]  \n",
       "6  The movie had some very impressive scenes. Esp...    [0, 1]  \n",
       "7  I loved it from the first episode! And I could...    [7, 9]  \n",
       "8  I see that Netflix has a teenage/kids audience...  [16, 26]  \n",
       "9  This is the show for people for whom nothing e...    [1, 5]  "
      ],
      "text/html": "<div>\n<style scoped>\n    .dataframe tbody tr th:only-of-type {\n        vertical-align: middle;\n    }\n\n    .dataframe tbody tr th {\n        vertical-align: top;\n    }\n\n    .dataframe thead th {\n        text-align: right;\n    }\n</style>\n<table border=\"1\" class=\"dataframe\">\n  <thead>\n    <tr style=\"text-align: right;\">\n      <th></th>\n      <th>review_id</th>\n      <th>reviewer</th>\n      <th>movie</th>\n      <th>rating</th>\n      <th>review_summary</th>\n      <th>review_date</th>\n      <th>spoiler_tag</th>\n      <th>review_detail</th>\n      <th>helpful</th>\n    </tr>\n  </thead>\n  <tbody>\n    <tr>\n      <th>0</th>\n      <td>rw5704482</td>\n      <td>raeldor-96879</td>\n      <td>After Life (2019– )</td>\n      <td>9</td>\n      <td>Very Strong Season 2</td>\n      <td>3 May 2020</td>\n      <td>0</td>\n      <td>I enjoyed the first season, but I must say I t...</td>\n      <td>[1, 1]</td>\n    </tr>\n    <tr>\n      <th>1</th>\n      <td>rw5704483</td>\n      <td>dosleeb</td>\n      <td>The Valhalla Murders (2019– )</td>\n      <td>6</td>\n      <td>Icelandic detectives?</td>\n      <td>3 May 2020</td>\n      <td>0</td>\n      <td>I know Iceland is a small country and police d...</td>\n      <td>[2, 2]</td>\n    </tr>\n    <tr>\n      <th>2</th>\n      <td>rw5704484</td>\n      <td>brightconscious</td>\n      <td>Special OPS (2020– )</td>\n      <td>7</td>\n      <td>Nothing special</td>\n      <td>3 May 2020</td>\n      <td>0</td>\n      <td>Except K K , no other actor looks comfortable ...</td>\n      <td>[0, 0]</td>\n    </tr>\n    <tr>\n      <th>3</th>\n      <td>rw5704485</td>\n      <td>gasconyway</td>\n      <td>#BlackAF (2020– )</td>\n      <td>8</td>\n      <td>Good but</td>\n      <td>3 May 2020</td>\n      <td>0</td>\n      <td>I'm guessing that as a 62 year old white woman...</td>\n      <td>[5, 9]</td>\n    </tr>\n    <tr>\n      <th>4</th>\n      <td>rw5704487</td>\n      <td>mmason-15867</td>\n      <td>The Droving (2020)</td>\n      <td>2</td>\n      <td>An honest review</td>\n      <td>3 May 2020</td>\n      <td>0</td>\n      <td>Here's the truth. There's not much to this mov...</td>\n      <td>[26, 41]</td>\n    </tr>\n    <tr>\n      <th>5</th>\n      <td>rw5704488</td>\n      <td>schroederagustavo</td>\n      <td>All About Eve (1950)</td>\n      <td>10</td>\n      <td>Amazing</td>\n      <td>3 May 2020</td>\n      <td>0</td>\n      <td>Having seen this film for the first time today...</td>\n      <td>[0, 1]</td>\n    </tr>\n    <tr>\n      <th>6</th>\n      <td>rw5704489</td>\n      <td>welhof1</td>\n      <td>Runaway Train (1985)</td>\n      <td>7</td>\n      <td>Impressive action scenes!</td>\n      <td>3 May 2020</td>\n      <td>0</td>\n      <td>The movie had some very impressive scenes. Esp...</td>\n      <td>[0, 1]</td>\n    </tr>\n    <tr>\n      <th>7</th>\n      <td>rw5704490</td>\n      <td>Evastar</td>\n      <td>Iron Fist (2017–2018)</td>\n      <td>9</td>\n      <td>Another great Netflix Marvel show!</td>\n      <td>3 May 2020</td>\n      <td>0</td>\n      <td>I loved it from the first episode! And I could...</td>\n      <td>[7, 9]</td>\n    </tr>\n    <tr>\n      <th>8</th>\n      <td>rw5704491</td>\n      <td>tioeta</td>\n      <td>The Half of It (I) (2020)</td>\n      <td>4</td>\n      <td>Needed the other half of the movie to cover up...</td>\n      <td>3 May 2020</td>\n      <td>0</td>\n      <td>I see that Netflix has a teenage/kids audience...</td>\n      <td>[16, 26]</td>\n    </tr>\n    <tr>\n      <th>9</th>\n      <td>rw5704492</td>\n      <td>stephenrifkin</td>\n      <td>This Is Us (2016– )</td>\n      <td>2</td>\n      <td>All the Pearsons are high maintenance and self...</td>\n      <td>3 May 2020</td>\n      <td>0</td>\n      <td>This is the show for people for whom nothing e...</td>\n      <td>[1, 5]</td>\n    </tr>\n  </tbody>\n</table>\n</div>"
     },
     "metadata": {},
     "execution_count": 101
    }
   ],
   "source": [
    "# Peek at the data before we get started\n",
    "reviews_df_raw.head(10)"
   ]
  },
  {
   "cell_type": "code",
   "execution_count": 102,
   "metadata": {},
   "outputs": [],
   "source": [
    "# Remove uninteresting columns for efficiency\n",
    "reviews_df_raw.drop([\"review_id\", \"reviewer\", \"helpful\"], axis=1, inplace=True)"
   ]
  },
  {
   "cell_type": "code",
   "execution_count": 103,
   "metadata": {},
   "outputs": [
    {
     "output_type": "execute_result",
     "data": {
      "text/plain": [
       "movie                  0\n",
       "rating            662849\n",
       "review_summary         0\n",
       "review_date            0\n",
       "spoiler_tag            0\n",
       "review_detail          0\n",
       "dtype: int64"
      ]
     },
     "metadata": {},
     "execution_count": 103
    }
   ],
   "source": [
    "# Check for na's\n",
    "reviews_df_raw.isna().sum()"
   ]
  },
  {
   "cell_type": "code",
   "execution_count": 104,
   "metadata": {},
   "outputs": [
    {
     "output_type": "stream",
     "name": "stdout",
     "text": [
      "After removing records with 'na' rating 4,908,650 remain out of original 5,571,499 (88.10%)\n"
     ]
    }
   ],
   "source": [
    "# Remove na's from rating, the only col with na's\n",
    "raw_records_count = len(reviews_df_raw[\"movie\"])\n",
    "\n",
    "reviews_df_trim = reviews_df_raw[reviews_df_raw[\"rating\"].notna()]\n",
    "trim_records_count = len(reviews_df_trim[\"movie\"])\n",
    "\n",
    "pct_with_rating = trim_records_count / raw_records_count * 100\n",
    "\n",
    "print(f\"After removing records with \\'na\\' rating {trim_records_count:,} remain out of original {raw_records_count:,} ({pct_with_rating:.2f}%)\") "
   ]
  },
  {
   "cell_type": "code",
   "execution_count": 105,
   "metadata": {},
   "outputs": [
    {
     "output_type": "stream",
     "name": "stdout",
     "text": [
      "No remaining na's in working data.\n"
     ]
    }
   ],
   "source": [
    "# Confirm removing na's was successful\n",
    "if reviews_df_trim.isna().sum().sum() == 0:\n",
    "    print(\"No remaining na's in working data.\")\n",
    "else:\n",
    "    raise SystemExit(f\"\\'na\\' values still present: \\n{reviews_df_trim.isna().sum()}\")"
   ]
  },
  {
   "cell_type": "code",
   "execution_count": 106,
   "metadata": {},
   "outputs": [
    {
     "output_type": "execute_result",
     "data": {
      "text/plain": [
       "movie             object\n",
       "rating            object\n",
       "review_summary    object\n",
       "review_date       object\n",
       "spoiler_tag        int64\n",
       "review_detail     object\n",
       "dtype: object"
      ]
     },
     "metadata": {},
     "execution_count": 106
    }
   ],
   "source": [
    "# Check types of remaining columns so we know what to fix\n",
    "# \"object\" in python is ok for text (movie, review_summary, and review_detail)\n",
    "# Others we can correct as part of our initial cleaning\n",
    "reviews_df_trim.dtypes"
   ]
  },
  {
   "cell_type": "code",
   "execution_count": 107,
   "metadata": {},
   "outputs": [
    {
     "output_type": "stream",
     "name": "stdout",
     "text": [
      "ratings summary stats\nAvg:  6.743157079848838\nMax:  10\nMin:  1\nMed:  8.0\n"
     ]
    }
   ],
   "source": [
    "# Cast ratings as int (safe now that NaNs have been removed)\n",
    "reviews_df_trim[\"rating\"] = reviews_df_trim[\"rating\"].astype(int)\n",
    "\n",
    "print(\"ratings summary stats\")\n",
    "print(\"Avg: \", reviews_df_trim[\"rating\"].mean())\n",
    "print(\"Max: \", reviews_df_trim[\"rating\"].max())\n",
    "print(\"Min: \", reviews_df_trim[\"rating\"].min())\n",
    "print(\"Med: \", reviews_df_trim[\"rating\"].median())"
   ]
  },
  {
   "cell_type": "code",
   "execution_count": 108,
   "metadata": {},
   "outputs": [
    {
     "output_type": "stream",
     "name": "stdout",
     "text": [
      "Out of 4,908,650 reviews 1,087,419 are spoilers (22.15%)\n\nFalse    3821231\nTrue     1087419\nName: spoiler_tag, dtype: int64\n"
     ]
    }
   ],
   "source": [
    "# Cast spoiler_tag as boolean\n",
    "reviews_df_trim[\"spoiler_tag\"] = reviews_df_trim[\"spoiler_tag\"] == 1\n",
    "spoiler_value_counts = reviews_df_trim[\"spoiler_tag\"].value_counts()\n",
    "current_records_count = len(reviews_df_trim[\"spoiler_tag\"])\n",
    "spoiler_count = spoiler_value_counts[1]\n",
    "spoiler_pct = spoiler_count / current_records_count * 100\n",
    "print(f\"Out of {current_records_count:,} reviews {spoiler_count:,} are spoilers ({spoiler_pct:.2f}%)\\n\")\n",
    "print(spoiler_value_counts)"
   ]
  },
  {
   "cell_type": "code",
   "execution_count": 109,
   "metadata": {},
   "outputs": [
    {
     "output_type": "stream",
     "name": "stdout",
     "text": [
      "review_date Summary Stats\nAvg:  2013-12-16 10:19:49.394558976\nMax:  2021-01-08 00:00:00\nMin:  1998-07-27 00:00:00\n"
     ]
    }
   ],
   "source": [
    "# Cast review_date as datetime\n",
    "reviews_df_trim[\"review_date\"] = pd.to_datetime(reviews_df_trim[\"review_date\"])\n",
    "\n",
    "print(\"review_date Summary Stats\")\n",
    "print(\"Avg: \", reviews_df_trim[\"review_date\"].mean())\n",
    "print(\"Max: \", reviews_df_trim[\"review_date\"].max())\n",
    "print(\"Min: \", reviews_df_trim[\"review_date\"].min())"
   ]
  },
  {
   "cell_type": "code",
   "execution_count": 110,
   "metadata": {},
   "outputs": [
    {
     "output_type": "stream",
     "name": "stdout",
     "text": [
      "movie                     object\nrating                     int32\nreview_summary            object\nreview_date       datetime64[ns]\nspoiler_tag                 bool\nreview_detail             object\ndtype: object\n"
     ]
    },
    {
     "output_type": "execute_result",
     "data": {
      "text/plain": [
       "                           movie  rating         review_summary review_date  \\\n",
       "0            After Life (2019– )       9   Very Strong Season 2  2020-05-03   \n",
       "1  The Valhalla Murders (2019– )       6  Icelandic detectives?  2020-05-03   \n",
       "2           Special OPS (2020– )       7        Nothing special  2020-05-03   \n",
       "3              #BlackAF (2020– )       8               Good but  2020-05-03   \n",
       "4             The Droving (2020)       2       An honest review  2020-05-03   \n",
       "\n",
       "   spoiler_tag                                      review_detail  \n",
       "0        False  I enjoyed the first season, but I must say I t...  \n",
       "1        False  I know Iceland is a small country and police d...  \n",
       "2        False  Except K K , no other actor looks comfortable ...  \n",
       "3        False  I'm guessing that as a 62 year old white woman...  \n",
       "4        False  Here's the truth. There's not much to this mov...  "
      ],
      "text/html": "<div>\n<style scoped>\n    .dataframe tbody tr th:only-of-type {\n        vertical-align: middle;\n    }\n\n    .dataframe tbody tr th {\n        vertical-align: top;\n    }\n\n    .dataframe thead th {\n        text-align: right;\n    }\n</style>\n<table border=\"1\" class=\"dataframe\">\n  <thead>\n    <tr style=\"text-align: right;\">\n      <th></th>\n      <th>movie</th>\n      <th>rating</th>\n      <th>review_summary</th>\n      <th>review_date</th>\n      <th>spoiler_tag</th>\n      <th>review_detail</th>\n    </tr>\n  </thead>\n  <tbody>\n    <tr>\n      <th>0</th>\n      <td>After Life (2019– )</td>\n      <td>9</td>\n      <td>Very Strong Season 2</td>\n      <td>2020-05-03</td>\n      <td>False</td>\n      <td>I enjoyed the first season, but I must say I t...</td>\n    </tr>\n    <tr>\n      <th>1</th>\n      <td>The Valhalla Murders (2019– )</td>\n      <td>6</td>\n      <td>Icelandic detectives?</td>\n      <td>2020-05-03</td>\n      <td>False</td>\n      <td>I know Iceland is a small country and police d...</td>\n    </tr>\n    <tr>\n      <th>2</th>\n      <td>Special OPS (2020– )</td>\n      <td>7</td>\n      <td>Nothing special</td>\n      <td>2020-05-03</td>\n      <td>False</td>\n      <td>Except K K , no other actor looks comfortable ...</td>\n    </tr>\n    <tr>\n      <th>3</th>\n      <td>#BlackAF (2020– )</td>\n      <td>8</td>\n      <td>Good but</td>\n      <td>2020-05-03</td>\n      <td>False</td>\n      <td>I'm guessing that as a 62 year old white woman...</td>\n    </tr>\n    <tr>\n      <th>4</th>\n      <td>The Droving (2020)</td>\n      <td>2</td>\n      <td>An honest review</td>\n      <td>2020-05-03</td>\n      <td>False</td>\n      <td>Here's the truth. There's not much to this mov...</td>\n    </tr>\n  </tbody>\n</table>\n</div>"
     },
     "metadata": {},
     "execution_count": 110
    }
   ],
   "source": [
    "# Check types once more to confirm recent changes\n",
    "print(reviews_df_trim.dtypes)\n",
    "\n",
    "# Peek at data to check our progress\n",
    "reviews_df_trim.head()"
   ]
  },
  {
   "cell_type": "code",
   "execution_count": 111,
   "metadata": {},
   "outputs": [],
   "source": [
    "# Separate Year using regular expressions\n",
    "\n",
    "# Most common pattern: \"Title (2000)\" or \"Title (2000- )\" or \"Title (2000-2001)\"\n",
    "# Also common pattern is \"Title (2000) Season #, Episode #\"\n",
    "# There are weird ones like 'The West: The People (1500-1806) (1996) Season 1, Episode 1'\n",
    "# Another: 'Red Riding: The Year of Our Lord 1980 (2009 TV Movie)'\n",
    "# Another: 'The Adventures of Moby Dick (1996 Video)'\n",
    "\n",
    "# This is also a good opportunity to remove TV shows from our working data\n",
    "# We want to cut out TV shows, but TV Movies and Video should be kept\n",
    "# Any dashes in the year parsing indicate it's a show, and should not be carried forward in the analysis\n",
    "\n",
    "yearPattern = r'(?:\\()(\\d{4})(?!\\-)?(?:\\d{4})?(?:\\sTV\\sMovie)?(?:\\sVideo)?(?:\\s?\\)$)(?!\\sSeason\\s\\d+\\,?\\sEpisode\\s\\d+$)' "
   ]
  },
  {
   "cell_type": "code",
   "execution_count": 112,
   "metadata": {},
   "outputs": [
    {
     "output_type": "execute_result",
     "data": {
      "text/plain": [
       "0    901647\n",
       "dtype: int64"
      ]
     },
     "metadata": {},
     "execution_count": 112
    }
   ],
   "source": [
    "# Use regex to pull years from movie column\n",
    "\n",
    "yearExtract = reviews_df_trim[\"movie\"].str.extract(yearPattern)\n",
    "# Some return two years (populating index 0 and 1 of return array)\n",
    "# Ideally, if all records were properly formatted movies, we'd get no na's in the [0] slot and all na's in the [1]\n",
    "yearExtract.isna().sum()"
   ]
  },
  {
   "cell_type": "code",
   "execution_count": 113,
   "metadata": {},
   "outputs": [
    {
     "output_type": "execute_result",
     "data": {
      "text/plain": [
       "['After Life (2019– )',\n",
       " 'The Valhalla Murders (2019– )',\n",
       " 'Special OPS (2020– )',\n",
       " '#BlackAF (2020– )',\n",
       " 'Iron Fist (2017–2018)',\n",
       " 'This Is Us (2016– )',\n",
       " 'Matchmaker Mysteries: A Fatal Romance (2020) Season 1, Episode 2',\n",
       " 'Brooklyn Nine-Nine (2013– )',\n",
       " 'After Life (2019– )',\n",
       " 'The Raikar Case (2020– )',\n",
       " 'Vida (2018–2020)',\n",
       " 'Bloodline: Part 13 (2015) Season 1, Episode 13',\n",
       " 'Jia you er nü (2005– )',\n",
       " 'After Life (2019– )',\n",
       " 'Four More Shots Please (2019– )']"
      ]
     },
     "metadata": {},
     "execution_count": 113
    }
   ],
   "source": [
    "# Check records where not even one year was pulled through regex, these should all be shows\n",
    "# Need specify [0] here because regex returns a list (in this case a list of length 1) \n",
    "# Use list() on returned series to see full text of the column\n",
    "list(reviews_df_trim[reviews_df_trim[\"movie\"].str.extract(yearPattern)[0].isna()][\"movie\"])[0:15]"
   ]
  },
  {
   "cell_type": "code",
   "execution_count": 114,
   "metadata": {},
   "outputs": [
    {
     "output_type": "stream",
     "name": "stdout",
     "text": [
      "After removing TV Series, 4,007,003 reviews remain out of 4,908,650 (81.63%).\n"
     ]
    }
   ],
   "source": [
    "# We've used regex to pull the year from every record that matches our formatting\n",
    "# We can now create a dataframe excluding all TV show reviews, by only taking records that match our regex  \n",
    "movie_reviews_df = reviews_df_trim[reviews_df_trim[\"movie\"].str.extract(yearPattern)[0].notna()]\n",
    "\n",
    "before_regex_count = len(reviews_df_trim[\"movie\"])\n",
    "after_regex_count = len(movie_reviews_df[\"movie\"])\n",
    "pct_not_movie = after_regex_count / before_regex_count * 100\n",
    "\n",
    "print(f\"After removing TV Series, {after_regex_count:,} reviews remain out of {before_regex_count:,} ({pct_not_movie:.2f}%).\")"
   ]
  },
  {
   "cell_type": "code",
   "execution_count": 115,
   "metadata": {},
   "outputs": [],
   "source": [
    "# Create year column to hold parsed year info\n",
    "movie_reviews_df[\"year\"] = movie_reviews_df[\"movie\"].str.extract(yearPattern)[0]"
   ]
  },
  {
   "cell_type": "code",
   "execution_count": 116,
   "metadata": {},
   "outputs": [],
   "source": [
    "# Pull name from movies column\n",
    "namePattern = r'^(.+)(?:\\s\\()'"
   ]
  },
  {
   "cell_type": "code",
   "execution_count": 117,
   "metadata": {},
   "outputs": [
    {
     "output_type": "execute_result",
     "data": {
      "text/plain": [
       "                          0\n",
       "4               The Droving\n",
       "5             All About Eve\n",
       "6             Runaway Train\n",
       "8        The Half of It (I)\n",
       "10              Closure (I)\n",
       "11              Unstoppable\n",
       "13       Beastie Boys Story\n",
       "14  Ruben Brandt, Collector\n",
       "15        Some Kind of Hate\n",
       "16                Cube Zero"
      ],
      "text/html": "<div>\n<style scoped>\n    .dataframe tbody tr th:only-of-type {\n        vertical-align: middle;\n    }\n\n    .dataframe tbody tr th {\n        vertical-align: top;\n    }\n\n    .dataframe thead th {\n        text-align: right;\n    }\n</style>\n<table border=\"1\" class=\"dataframe\">\n  <thead>\n    <tr style=\"text-align: right;\">\n      <th></th>\n      <th>0</th>\n    </tr>\n  </thead>\n  <tbody>\n    <tr>\n      <th>4</th>\n      <td>The Droving</td>\n    </tr>\n    <tr>\n      <th>5</th>\n      <td>All About Eve</td>\n    </tr>\n    <tr>\n      <th>6</th>\n      <td>Runaway Train</td>\n    </tr>\n    <tr>\n      <th>8</th>\n      <td>The Half of It (I)</td>\n    </tr>\n    <tr>\n      <th>10</th>\n      <td>Closure (I)</td>\n    </tr>\n    <tr>\n      <th>11</th>\n      <td>Unstoppable</td>\n    </tr>\n    <tr>\n      <th>13</th>\n      <td>Beastie Boys Story</td>\n    </tr>\n    <tr>\n      <th>14</th>\n      <td>Ruben Brandt, Collector</td>\n    </tr>\n    <tr>\n      <th>15</th>\n      <td>Some Kind of Hate</td>\n    </tr>\n    <tr>\n      <th>16</th>\n      <td>Cube Zero</td>\n    </tr>\n  </tbody>\n</table>\n</div>"
     },
     "metadata": {},
     "execution_count": 117
    }
   ],
   "source": [
    "# This pattern is simpler, so we'll just quickly check the regex is matching correctly\n",
    "nameExtract = movie_reviews_df[\"movie\"].str.extract(namePattern)\n",
    "nameExtract[0:10]"
   ]
  },
  {
   "cell_type": "code",
   "execution_count": 118,
   "metadata": {},
   "outputs": [
    {
     "output_type": "execute_result",
     "data": {
      "text/plain": [
       "                        movie  rating  \\\n",
       "4          The Droving (2020)       2   \n",
       "5        All About Eve (1950)      10   \n",
       "6        Runaway Train (1985)       7   \n",
       "8   The Half of It (I) (2020)       4   \n",
       "10         Closure (I) (2018)       9   \n",
       "\n",
       "                                       review_summary review_date  \\\n",
       "4                                    An honest review  2020-05-03   \n",
       "5                                             Amazing  2020-05-03   \n",
       "6                           Impressive action scenes!  2020-05-03   \n",
       "8   Needed the other half of the movie to cover up...  2020-05-03   \n",
       "10                                 Fun and intriguing  2020-05-03   \n",
       "\n",
       "    spoiler_tag                                      review_detail  year  \\\n",
       "4         False  Here's the truth. There's not much to this mov...  2020   \n",
       "5         False  Having seen this film for the first time today...  1950   \n",
       "6         False  The movie had some very impressive scenes. Esp...  1985   \n",
       "8         False  I see that Netflix has a teenage/kids audience...  2020   \n",
       "10        False  This is a fun and intriguing mystery. The acti...  2018   \n",
       "\n",
       "                 title  \n",
       "4          The Droving  \n",
       "5        All About Eve  \n",
       "6        Runaway Train  \n",
       "8   The Half of It (I)  \n",
       "10         Closure (I)  "
      ],
      "text/html": "<div>\n<style scoped>\n    .dataframe tbody tr th:only-of-type {\n        vertical-align: middle;\n    }\n\n    .dataframe tbody tr th {\n        vertical-align: top;\n    }\n\n    .dataframe thead th {\n        text-align: right;\n    }\n</style>\n<table border=\"1\" class=\"dataframe\">\n  <thead>\n    <tr style=\"text-align: right;\">\n      <th></th>\n      <th>movie</th>\n      <th>rating</th>\n      <th>review_summary</th>\n      <th>review_date</th>\n      <th>spoiler_tag</th>\n      <th>review_detail</th>\n      <th>year</th>\n      <th>title</th>\n    </tr>\n  </thead>\n  <tbody>\n    <tr>\n      <th>4</th>\n      <td>The Droving (2020)</td>\n      <td>2</td>\n      <td>An honest review</td>\n      <td>2020-05-03</td>\n      <td>False</td>\n      <td>Here's the truth. There's not much to this mov...</td>\n      <td>2020</td>\n      <td>The Droving</td>\n    </tr>\n    <tr>\n      <th>5</th>\n      <td>All About Eve (1950)</td>\n      <td>10</td>\n      <td>Amazing</td>\n      <td>2020-05-03</td>\n      <td>False</td>\n      <td>Having seen this film for the first time today...</td>\n      <td>1950</td>\n      <td>All About Eve</td>\n    </tr>\n    <tr>\n      <th>6</th>\n      <td>Runaway Train (1985)</td>\n      <td>7</td>\n      <td>Impressive action scenes!</td>\n      <td>2020-05-03</td>\n      <td>False</td>\n      <td>The movie had some very impressive scenes. Esp...</td>\n      <td>1985</td>\n      <td>Runaway Train</td>\n    </tr>\n    <tr>\n      <th>8</th>\n      <td>The Half of It (I) (2020)</td>\n      <td>4</td>\n      <td>Needed the other half of the movie to cover up...</td>\n      <td>2020-05-03</td>\n      <td>False</td>\n      <td>I see that Netflix has a teenage/kids audience...</td>\n      <td>2020</td>\n      <td>The Half of It (I)</td>\n    </tr>\n    <tr>\n      <th>10</th>\n      <td>Closure (I) (2018)</td>\n      <td>9</td>\n      <td>Fun and intriguing</td>\n      <td>2020-05-03</td>\n      <td>False</td>\n      <td>This is a fun and intriguing mystery. The acti...</td>\n      <td>2018</td>\n      <td>Closure (I)</td>\n    </tr>\n  </tbody>\n</table>\n</div>"
     },
     "metadata": {},
     "execution_count": 118
    }
   ],
   "source": [
    "# Create column to hold parsed Title info\n",
    "movie_reviews_df[\"title\"] = movie_reviews_df[\"movie\"].str.extract(namePattern)\n",
    "\n",
    "movie_reviews_df.head()"
   ]
  },
  {
   "cell_type": "code",
   "execution_count": 119,
   "metadata": {},
   "outputs": [
    {
     "output_type": "stream",
     "name": "stdout",
     "text": [
      "Bad titles detected: 1\n",
      "Before dropping title na's: 4,007,003\n",
      "Dropping records with irregularly formatted names: \n",
      "(1969)    1\n",
      "Name: movie, dtype: int64\n",
      "After cleaning steps: 4,007,002 reviews remaining out of initial 5,571,499\n"
     ]
    }
   ],
   "source": [
    "bad_titles_count = len(movie_reviews_df[movie_reviews_df[\"title\"].isna()])\n",
    "before_titles_cleaning_count = len(movie_reviews_df[\"title\"])\n",
    "if (bad_titles_count > 0):\n",
    "    print(f\"Bad titles detected: {bad_titles_count:,}\")\n",
    "    print(f\"Before dropping title na's: {before_titles_cleaning_count:,}\")\n",
    "    print(\"Dropping records with irregularly formatted names: \")\n",
    "    print(movie_reviews_df[movie_reviews_df[\"title\"].isna()][\"movie\"].value_counts()) # List to display all\n",
    "    movie_reviews_df.drop(movie_reviews_df[movie_reviews_df[\"title\"].isna()].index, inplace = True)\n",
    "else:\n",
    "    print(\"No na values detected in title column.\")\n",
    "\n",
    "after_titles_cleaning_count = len(movie_reviews_df[\"title\"])\n",
    "print(f\"After cleaning steps: {after_titles_cleaning_count:,} reviews remaining out of initial {reviews_total_count:,}\")\n",
    "clean_reviews_df = movie_reviews_df"
   ]
  },
  {
   "cell_type": "code",
   "execution_count": 122,
   "metadata": {},
   "outputs": [
    {
     "output_type": "execute_result",
     "data": {
      "text/plain": [
       "mean     6.654420\n",
       "std      2.952341\n",
       "min      1.000000\n",
       "25%      5.000000\n",
       "50%      7.000000\n",
       "75%      9.000000\n",
       "max     10.000000\n",
       "Name: rating, dtype: float64"
      ]
     },
     "metadata": {},
     "execution_count": 122
    }
   ],
   "source": [
    "#clean_reviews_df['rating'].plot(kind='hist')\n",
    "clean_reviews_df['rating'].describe()[1:]"
   ]
  },
  {
   "cell_type": "code",
   "execution_count": 123,
   "metadata": {},
   "outputs": [
    {
     "output_type": "execute_result",
     "data": {
      "text/plain": [
       "year\n",
       "2019    315173\n",
       "2018    260435\n",
       "2020    215842\n",
       "2017    175184\n",
       "2016    137296\n",
       "Name: movie, dtype: int64"
      ]
     },
     "metadata": {},
     "execution_count": 123
    }
   ],
   "source": [
    "# Which release years have the most review activity?\n",
    "clean_reviews_df.groupby(['year']).count()['movie'].sort_values(ascending=False).head()"
   ]
  },
  {
   "cell_type": "code",
   "execution_count": 124,
   "metadata": {},
   "outputs": [
    {
     "output_type": "execute_result",
     "data": {
      "text/plain": [
       "mean    2000.846045\n",
       "std       21.281040\n",
       "min     1874.000000\n",
       "25%     1996.000000\n",
       "50%     2007.000000\n",
       "75%     2016.000000\n",
       "max     2022.000000\n",
       "Name: year, dtype: float64"
      ]
     },
     "metadata": {},
     "execution_count": 124
    }
   ],
   "source": [
    "# Overall stats of years with reviews in working data\n",
    "clean_reviews_df['year'] = clean_reviews_df['year'].astype(str).astype(int)\n",
    "clean_reviews_df['year'].describe()[1:] # \"count\", the first index, is excluded to keep the format nice"
   ]
  },
  {
   "cell_type": "code",
   "execution_count": 125,
   "metadata": {},
   "outputs": [
    {
     "output_type": "stream",
     "name": "stdout",
     "text": [
      "Passage de Venus (1874)\n"
     ]
    },
    {
     "output_type": "execute_result",
     "data": {
      "text/plain": [
       "'OR IS IT?It is true that this is the very first sequential photographic series put to motion ever produced, there is an elephant in the room that needs to be addressed. The tragedy is that this is not actually the heavenly body of Venus passing before the great burning day ball in the sky. It is in fact, the world\\'s first screen test, as these are only models, placeholders made to test the plates which would be used for the real deal. Regrettably, the actual footage of the Venusian transit may be lost forever. According to Wikipedia, \"A 2005 study of the surviving material concluded that all the extant plates made with the photographic revolver are practice plates shot with a model and that none of the many plates successfully exposed during the eclipse seem to have survived.\"Yet we must interpret it as it is: A film. Indeed, it is fitting that man\\'s first foray into something so invariably groundbreaking in influence, cultural impact and importance to art as film is indeed, baby steps, waddling up towards the stars. Or at least, the pretend ones spinning above the nascent medium\\'s crib in its nursery. If we play along with this vision, we cannot help but be in awe of man\\'s great scope for this technology\\'s use, to chart astrological and scientific phenomena, to revolutionize the preservation of once in a lifetime events, and indeed attain near-apotheosis in achieving the ability to preserve, simulate and replay life itself as long as the powers and mediums employed would hold. It is staggering in and of itself that this alone survived into the age where it could be immortalized nearly forever, to inspire every generation with proof that even in simulacra, man has always been driven to achievement by gazing upon the wonders within the stars.'"
      ]
     },
     "metadata": {},
     "execution_count": 125
    }
   ],
   "source": [
    "# Verify oldest movie... chances are whoever is commenting on ancient film would mention how old it is\n",
    "oldest_movie_review = clean_reviews_df.loc[clean_reviews_df[\"year\"] == clean_reviews_df['year'].describe()[\"min\"]]\n",
    "print(list(oldest_movie_review[\"movie\"])[0])# List() is an easy way to display a long string inside a series\n",
    "list(oldest_movie_review[\"review_detail\"])[0] # Use the [0] index in case there are multiple for the oldest movie"
   ]
  },
  {
   "cell_type": "code",
   "execution_count": 126,
   "metadata": {},
   "outputs": [
    {
     "output_type": "stream",
     "name": "stdout",
     "text": [
      "Iblis (2022)\n"
     ]
    },
    {
     "output_type": "execute_result",
     "data": {
      "text/plain": [
       "'A for this movie title. We\\'re shooting in dhaka in a empty place or empty plot this why we named this movie as \"Empty House\"'"
      ]
     },
     "metadata": {},
     "execution_count": 126
    }
   ],
   "source": [
    "# Verify newest movie... 2022?\n",
    "newest_movie_review = clean_reviews_df.loc[clean_reviews_df[\"year\"] == clean_reviews_df['year'].describe()[\"max\"]]\n",
    "print(list(newest_movie_review[\"movie\"])[0])# List() is an easy way to display a long string inside a series\n",
    "list(newest_movie_review[\"review_detail\"])[0] # Use the [0] index in case there are multiple for the oldest movie"
   ]
  },
  {
   "cell_type": "code",
   "execution_count": 127,
   "metadata": {},
   "outputs": [],
   "source": [
    "# Uncomment below to create a 4.9gb .csv file in working folder, to be used for EDA\n",
    "# clean_reviews_df.to_csv(\"imdbReviewsClean.csv\", sep=\"\\t\", index = False)"
   ]
  }
 ]
}